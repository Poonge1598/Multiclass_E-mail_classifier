{
  "cells": [
    {
      "cell_type": "markdown",
      "metadata": {
        "id": "view-in-github",
        "colab_type": "text"
      },
      "source": [
        "<a href=\"https://colab.research.google.com/github/Poonge1598/Multiclass_E-mail_classifier/blob/main/multi-class_mail_classification.ipynb\" target=\"_parent\"><img src=\"https://colab.research.google.com/assets/colab-badge.svg\" alt=\"Open In Colab\"/></a>"
      ]
    },
    {
      "cell_type": "code",
      "execution_count": null,
      "metadata": {
        "id": "ci6xB9DTXXXx"
      },
      "outputs": [],
      "source": [
        "import numpy as np\n",
        "import pandas as pd"
      ]
    },
    {
      "cell_type": "code",
      "execution_count": null,
      "metadata": {
        "id": "3mtSC-lMUqWA"
      },
      "outputs": [],
      "source": [
        "data=pd.read_csv('train.csv',index_col=0)"
      ]
    },
    {
      "cell_type": "code",
      "execution_count": null,
      "metadata": {
        "colab": {
          "base_uri": "https://localhost:8080/",
          "height": 363
        },
        "id": "UUyHImnPUtTx",
        "outputId": "5b714faf-0b77-4b6e-a8b3-b6203977fe2a"
      },
      "outputs": [
        {
          "data": {
            "text/html": [
              "<div>\n",
              "<style scoped>\n",
              "    .dataframe tbody tr th:only-of-type {\n",
              "        vertical-align: middle;\n",
              "    }\n",
              "\n",
              "    .dataframe tbody tr th {\n",
              "        vertical-align: top;\n",
              "    }\n",
              "\n",
              "    .dataframe thead th {\n",
              "        text-align: right;\n",
              "    }\n",
              "</style>\n",
              "<table border=\"1\" class=\"dataframe\">\n",
              "  <thead>\n",
              "    <tr style=\"text-align: right;\">\n",
              "      <th></th>\n",
              "      <th>date</th>\n",
              "      <th>org</th>\n",
              "      <th>tld</th>\n",
              "      <th>ccs</th>\n",
              "      <th>bcced</th>\n",
              "      <th>mail_type</th>\n",
              "      <th>images</th>\n",
              "      <th>urls</th>\n",
              "      <th>salutations</th>\n",
              "      <th>designation</th>\n",
              "      <th>chars_in_subject</th>\n",
              "      <th>chars_in_body</th>\n",
              "      <th>label</th>\n",
              "    </tr>\n",
              "  </thead>\n",
              "  <tbody>\n",
              "    <tr>\n",
              "      <th>0</th>\n",
              "      <td>Mon, 6 Nov 2017 11:13:45 +0100</td>\n",
              "      <td>reply</td>\n",
              "      <td>ebay.in</td>\n",
              "      <td>0</td>\n",
              "      <td>0</td>\n",
              "      <td>multipart/alternative</td>\n",
              "      <td>35</td>\n",
              "      <td>120</td>\n",
              "      <td>0</td>\n",
              "      <td>0</td>\n",
              "      <td>49.0</td>\n",
              "      <td>80027</td>\n",
              "      <td>2</td>\n",
              "    </tr>\n",
              "    <tr>\n",
              "      <th>1</th>\n",
              "      <td>Wed, 14 Feb 2018 11:00:16 -0000</td>\n",
              "      <td>edm</td>\n",
              "      <td>efinmail.com</td>\n",
              "      <td>0</td>\n",
              "      <td>0</td>\n",
              "      <td>multipart/alternative</td>\n",
              "      <td>1</td>\n",
              "      <td>7</td>\n",
              "      <td>0</td>\n",
              "      <td>0</td>\n",
              "      <td>107.0</td>\n",
              "      <td>2961</td>\n",
              "      <td>1</td>\n",
              "    </tr>\n",
              "    <tr>\n",
              "      <th>2</th>\n",
              "      <td>Wed, 6 Jul 2016 19:53:37 +0000</td>\n",
              "      <td>usebackpack</td>\n",
              "      <td>com</td>\n",
              "      <td>0</td>\n",
              "      <td>0</td>\n",
              "      <td>text/html</td>\n",
              "      <td>4</td>\n",
              "      <td>17</td>\n",
              "      <td>0</td>\n",
              "      <td>0</td>\n",
              "      <td>35.0</td>\n",
              "      <td>25149</td>\n",
              "      <td>1</td>\n",
              "    </tr>\n",
              "    <tr>\n",
              "      <th>3</th>\n",
              "      <td>Fri, 11 Oct 2019 11:25:40 +0200</td>\n",
              "      <td>granular</td>\n",
              "      <td>ai</td>\n",
              "      <td>0</td>\n",
              "      <td>0</td>\n",
              "      <td>multipart/mixed</td>\n",
              "      <td>0</td>\n",
              "      <td>0</td>\n",
              "      <td>0</td>\n",
              "      <td>0</td>\n",
              "      <td>15.0</td>\n",
              "      <td>635296</td>\n",
              "      <td>1</td>\n",
              "    </tr>\n",
              "    <tr>\n",
              "      <th>4</th>\n",
              "      <td>Tue, 07 Nov 2017 11:07:18 +0000 (UTC)</td>\n",
              "      <td>github</td>\n",
              "      <td>com</td>\n",
              "      <td>1</td>\n",
              "      <td>0</td>\n",
              "      <td>multipart/alternative</td>\n",
              "      <td>2</td>\n",
              "      <td>11</td>\n",
              "      <td>0</td>\n",
              "      <td>0</td>\n",
              "      <td>49.0</td>\n",
              "      <td>2355</td>\n",
              "      <td>1</td>\n",
              "    </tr>\n",
              "    <tr>\n",
              "      <th>5</th>\n",
              "      <td>Sun, 13 Dec 2015 18:44:00 +0530</td>\n",
              "      <td>iiitd</td>\n",
              "      <td>ac.in</td>\n",
              "      <td>5</td>\n",
              "      <td>0</td>\n",
              "      <td>multipart/alternative</td>\n",
              "      <td>2</td>\n",
              "      <td>14</td>\n",
              "      <td>1</td>\n",
              "      <td>0</td>\n",
              "      <td>78.0</td>\n",
              "      <td>8365</td>\n",
              "      <td>3</td>\n",
              "    </tr>\n",
              "    <tr>\n",
              "      <th>6</th>\n",
              "      <td>Wed, 9 Sep 2015 06:18:29 +0000 (UTC)</td>\n",
              "      <td>piazza</td>\n",
              "      <td>com</td>\n",
              "      <td>0</td>\n",
              "      <td>0</td>\n",
              "      <td>multipart/alternative</td>\n",
              "      <td>0</td>\n",
              "      <td>11</td>\n",
              "      <td>1</td>\n",
              "      <td>1</td>\n",
              "      <td>31.0</td>\n",
              "      <td>3357</td>\n",
              "      <td>1</td>\n",
              "    </tr>\n",
              "    <tr>\n",
              "      <th>7</th>\n",
              "      <td>Wed, 23 Aug 2017 10:29:45 +0000</td>\n",
              "      <td>in</td>\n",
              "      <td>ibm.com</td>\n",
              "      <td>0</td>\n",
              "      <td>0</td>\n",
              "      <td>multipart/related</td>\n",
              "      <td>0</td>\n",
              "      <td>4</td>\n",
              "      <td>1</td>\n",
              "      <td>1</td>\n",
              "      <td>218.0</td>\n",
              "      <td>15862</td>\n",
              "      <td>1</td>\n",
              "    </tr>\n",
              "    <tr>\n",
              "      <th>8</th>\n",
              "      <td>Sat, 19 May 2018 13:56:53 +0000</td>\n",
              "      <td>redwolf</td>\n",
              "      <td>in</td>\n",
              "      <td>0</td>\n",
              "      <td>0</td>\n",
              "      <td>multipart/alternative</td>\n",
              "      <td>14</td>\n",
              "      <td>39</td>\n",
              "      <td>0</td>\n",
              "      <td>0</td>\n",
              "      <td>49.0</td>\n",
              "      <td>8011</td>\n",
              "      <td>1</td>\n",
              "    </tr>\n",
              "    <tr>\n",
              "      <th>9</th>\n",
              "      <td>Mon, 14 May 2018 01:41:53 +0000</td>\n",
              "      <td>m</td>\n",
              "      <td>mail.coursera.org</td>\n",
              "      <td>0</td>\n",
              "      <td>0</td>\n",
              "      <td>multipart/alternative</td>\n",
              "      <td>25</td>\n",
              "      <td>131</td>\n",
              "      <td>0</td>\n",
              "      <td>1</td>\n",
              "      <td>18.0</td>\n",
              "      <td>92248</td>\n",
              "      <td>1</td>\n",
              "    </tr>\n",
              "  </tbody>\n",
              "</table>\n",
              "</div>"
            ],
            "text/plain": [
              "                                    date          org                tld  ccs  \\\n",
              "0         Mon, 6 Nov 2017 11:13:45 +0100        reply            ebay.in    0   \n",
              "1        Wed, 14 Feb 2018 11:00:16 -0000          edm       efinmail.com    0   \n",
              "2         Wed, 6 Jul 2016 19:53:37 +0000  usebackpack                com    0   \n",
              "3        Fri, 11 Oct 2019 11:25:40 +0200     granular                 ai    0   \n",
              "4  Tue, 07 Nov 2017 11:07:18 +0000 (UTC)       github                com    1   \n",
              "5        Sun, 13 Dec 2015 18:44:00 +0530        iiitd              ac.in    5   \n",
              "6   Wed, 9 Sep 2015 06:18:29 +0000 (UTC)       piazza                com    0   \n",
              "7        Wed, 23 Aug 2017 10:29:45 +0000           in            ibm.com    0   \n",
              "8        Sat, 19 May 2018 13:56:53 +0000      redwolf                 in    0   \n",
              "9        Mon, 14 May 2018 01:41:53 +0000            m  mail.coursera.org    0   \n",
              "\n",
              "   bcced              mail_type  images  urls  salutations  designation  \\\n",
              "0      0  multipart/alternative      35   120            0            0   \n",
              "1      0  multipart/alternative       1     7            0            0   \n",
              "2      0              text/html       4    17            0            0   \n",
              "3      0        multipart/mixed       0     0            0            0   \n",
              "4      0  multipart/alternative       2    11            0            0   \n",
              "5      0  multipart/alternative       2    14            1            0   \n",
              "6      0  multipart/alternative       0    11            1            1   \n",
              "7      0      multipart/related       0     4            1            1   \n",
              "8      0  multipart/alternative      14    39            0            0   \n",
              "9      0  multipart/alternative      25   131            0            1   \n",
              "\n",
              "   chars_in_subject  chars_in_body  label  \n",
              "0              49.0          80027      2  \n",
              "1             107.0           2961      1  \n",
              "2              35.0          25149      1  \n",
              "3              15.0         635296      1  \n",
              "4              49.0           2355      1  \n",
              "5              78.0           8365      3  \n",
              "6              31.0           3357      1  \n",
              "7             218.0          15862      1  \n",
              "8              49.0           8011      1  \n",
              "9              18.0          92248      1  "
            ]
          },
          "execution_count": 3,
          "metadata": {},
          "output_type": "execute_result"
        }
      ],
      "source": [
        "data.head(10)"
      ]
    },
    {
      "cell_type": "code",
      "execution_count": null,
      "metadata": {
        "colab": {
          "base_uri": "https://localhost:8080/"
        },
        "id": "7oejgbzRVdPq",
        "outputId": "d4418e47-7c61-42b5-b512-52366a840daa"
      },
      "outputs": [
        {
          "data": {
            "text/plain": [
              "1038"
            ]
          },
          "execution_count": 4,
          "metadata": {},
          "output_type": "execute_result"
        }
      ],
      "source": [
        "data['org'].nunique()"
      ]
    },
    {
      "cell_type": "code",
      "execution_count": null,
      "metadata": {
        "colab": {
          "base_uri": "https://localhost:8080/"
        },
        "id": "1LZ5zY6Vp-34",
        "outputId": "7ecebe33-638c-418b-9b7c-0f2d16cf95c0"
      },
      "outputs": [
        {
          "data": {
            "text/plain": [
              "291"
            ]
          },
          "execution_count": 5,
          "metadata": {},
          "output_type": "execute_result"
        }
      ],
      "source": [
        "data['tld'].nunique()"
      ]
    },
    {
      "cell_type": "code",
      "execution_count": null,
      "metadata": {
        "colab": {
          "base_uri": "https://localhost:8080/"
        },
        "id": "3-7jGZA0qwAe",
        "outputId": "33f3182f-bdb3-4c02-ebd9-58d6927da99e"
      },
      "outputs": [
        {
          "data": {
            "text/plain": [
              "47279"
            ]
          },
          "execution_count": 6,
          "metadata": {},
          "output_type": "execute_result"
        }
      ],
      "source": [
        "data['date'].nunique()"
      ]
    },
    {
      "cell_type": "code",
      "execution_count": null,
      "metadata": {
        "colab": {
          "base_uri": "https://localhost:8080/"
        },
        "id": "_tDYFs98oUsN",
        "outputId": "8137f165-6e97-4890-ec09-96d7c6b3ccea"
      },
      "outputs": [
        {
          "data": {
            "text/plain": [
              "iiitd          19943\n",
              "usebackpack     5070\n",
              "google          3890\n",
              "amazon          3123\n",
              "linkedin        2371\n",
              "               ...  \n",
              "i                  1\n",
              "epic               1\n",
              "paytmoffers        1\n",
              "techject           1\n",
              "freedns            1\n",
              "Name: org, Length: 1038, dtype: int64"
            ]
          },
          "execution_count": 7,
          "metadata": {},
          "output_type": "execute_result"
        }
      ],
      "source": [
        "data['org'].value_counts()"
      ]
    },
    {
      "cell_type": "code",
      "execution_count": null,
      "metadata": {
        "colab": {
          "base_uri": "https://localhost:8080/"
        },
        "id": "6YtR7D3eqCHJ",
        "outputId": "3265df97-5610-4f3d-dbef-22199607215b"
      },
      "outputs": [
        {
          "data": {
            "text/plain": [
              "array([0, 1], dtype=int64)"
            ]
          },
          "execution_count": 8,
          "metadata": {},
          "output_type": "execute_result"
        }
      ],
      "source": [
        "pd.unique(data['bcced'])"
      ]
    },
    {
      "cell_type": "code",
      "execution_count": null,
      "metadata": {
        "colab": {
          "base_uri": "https://localhost:8080/"
        },
        "id": "vDtNOnq2qb7B",
        "outputId": "e5166e2b-9b02-45ca-c56e-0b507a2fc4b2"
      },
      "outputs": [
        {
          "data": {
            "text/plain": [
              "array([  0,   1,   5,   2,   4,   9,   6,  20,   3,  11,  74,   7,   8,\n",
              "        14,  17,  10,  13, 155,  15,  22,  19,  12,  16,  76,  18,  35,\n",
              "        46,  83,  39, 179, 154,  99,  68,  44,  65], dtype=int64)"
            ]
          },
          "execution_count": 9,
          "metadata": {},
          "output_type": "execute_result"
        }
      ],
      "source": [
        "pd.unique(data['ccs'])"
      ]
    },
    {
      "cell_type": "code",
      "execution_count": null,
      "metadata": {
        "colab": {
          "base_uri": "https://localhost:8080/"
        },
        "id": "RVUiMOos78p2",
        "outputId": "dbdca751-c561-489b-8fdf-d8db7cce62b4"
      },
      "outputs": [
        {
          "data": {
            "text/plain": [
              "date                   0\n",
              "org                 3451\n",
              "tld                 3453\n",
              "ccs                    0\n",
              "bcced                  0\n",
              "mail_type            172\n",
              "images                 0\n",
              "urls                   0\n",
              "salutations            0\n",
              "designation            0\n",
              "chars_in_subject      16\n",
              "chars_in_body          0\n",
              "label                  0\n",
              "dtype: int64"
            ]
          },
          "execution_count": 10,
          "metadata": {},
          "output_type": "execute_result"
        }
      ],
      "source": [
        "data.isnull().sum()"
      ]
    },
    {
      "cell_type": "code",
      "execution_count": null,
      "metadata": {
        "colab": {
          "base_uri": "https://localhost:8080/"
        },
        "id": "tDO-MZm98A0x",
        "outputId": "9a9ac397-ca76-464b-9cf7-9bb6aeab7713"
      },
      "outputs": [
        {
          "data": {
            "text/plain": [
              "(80176, 13)"
            ]
          },
          "execution_count": 12,
          "metadata": {},
          "output_type": "execute_result"
        }
      ],
      "source": [
        "data.shape"
      ]
    },
    {
      "cell_type": "markdown",
      "metadata": {
        "id": "MXntlZB2IS50"
      },
      "source": [
        "**Visualizations**"
      ]
    },
    {
      "cell_type": "code",
      "execution_count": null,
      "metadata": {
        "id": "GE_JZzC3n7h2"
      },
      "outputs": [],
      "source": [
        "import seaborn as sns"
      ]
    },
    {
      "cell_type": "code",
      "execution_count": null,
      "metadata": {
        "id": "8wBcXVOfoQID"
      },
      "outputs": [],
      "source": [
        "import matplotlib.pyplot as plt"
      ]
    },
    {
      "cell_type": "code",
      "execution_count": null,
      "metadata": {
        "colab": {
          "base_uri": "https://localhost:8080/",
          "height": 467
        },
        "id": "7jIp4sUin8z-",
        "outputId": "e2613361-c390-4b7e-e46f-4e4519eecc91"
      },
      "outputs": [
        {
          "data": {
            "text/plain": [
              "<Axes: xlabel='label', ylabel='count'>"
            ]
          },
          "execution_count": 16,
          "metadata": {},
          "output_type": "execute_result"
        },
        {
          "data": {
            "image/png": "[encoded data removed]",
            "text/plain": [
              "<Figure size 640x480 with 1 Axes>"
            ]
          },
          "metadata": {},
          "output_type": "display_data"
        }
      ],
      "source": [
        "sns.countplot(x='label',data=data)"
      ]
    },
    {
      "cell_type": "code",
      "execution_count": null,
      "metadata": {
        "colab": {
          "base_uri": "https://localhost:8080/",
          "height": 800
        },
        "id": "G0p9klp0pbo-",
        "outputId": "1b72c79b-f1a7-4679-88d4-c4ca811e9092"
      },
      "outputs": [
        {
          "data": {
            "text/plain": [
              "<Axes: xlabel='mail_type', ylabel='count'>"
            ]
          },
          "execution_count": 17,
          "metadata": {},
          "output_type": "execute_result"
        },
        {
          "data": {
            "image/png": "[encoded data removed]",
            "text/plain": [
              "<Figure size 2000x1000 with 1 Axes>"
            ]
          },
          "metadata": {},
          "output_type": "display_data"
        }
      ],
      "source": [
        "plt.figure(figsize=(20,10))\n",
        "sns.countplot(x='mail_type',data=data)"
      ]
    },
    {
      "cell_type": "markdown",
      "metadata": {
        "id": "6La_ZiY6dkXj"
      },
      "source": [
        "**Handling missing data**"
      ]
    },
    {
      "cell_type": "code",
      "execution_count": null,
      "metadata": {
        "colab": {
          "base_uri": "https://localhost:8080/"
        },
        "id": "raJJwM4fZ96H",
        "outputId": "fa2e9fa1-b8a4-4c62-fad1-e17f76356953"
      },
      "outputs": [
        {
          "data": {
            "text/plain": [
              "date                   0\n",
              "org                 3451\n",
              "tld                 3453\n",
              "ccs                    0\n",
              "bcced                  0\n",
              "mail_type            172\n",
              "images                 0\n",
              "urls                   0\n",
              "salutations            0\n",
              "designation            0\n",
              "chars_in_subject      16\n",
              "chars_in_body          0\n",
              "label                  0\n",
              "dtype: int64"
            ]
          },
          "execution_count": 18,
          "metadata": {},
          "output_type": "execute_result"
        }
      ],
      "source": [
        "data.isna().sum()"
      ]
    },
    {
      "cell_type": "code",
      "execution_count": null,
      "metadata": {
        "id": "p6dpc9qhZ90H"
      },
      "outputs": [],
      "source": [
        "data['org'].fillna('Unknown', inplace=True)\n",
        "data['tld'].fillna('Unknown', inplace=True)\n"
      ]
    },
    {
      "cell_type": "code",
      "execution_count": null,
      "metadata": {
        "id": "7nw4LVaMZ9xl"
      },
      "outputs": [],
      "source": [
        "common_mail_type = data['mail_type'].mode()[0]\n",
        "data['mail_type'].fillna(common_mail_type, inplace=True)\n"
      ]
    },
    {
      "cell_type": "code",
      "execution_count": null,
      "metadata": {
        "id": "xa3FX32sdobd"
      },
      "outputs": [],
      "source": [
        "median_char=data['chars_in_subject'].median()\n",
        "data['chars_in_subject'].fillna(median_char,inplace=True)"
      ]
    },
    {
      "cell_type": "code",
      "execution_count": null,
      "metadata": {
        "colab": {
          "base_uri": "https://localhost:8080/"
        },
        "id": "MDEEiOi2hg8J",
        "outputId": "5ff26a7e-b539-44ca-8bef-a60bcfc423b8"
      },
      "outputs": [
        {
          "data": {
            "text/plain": [
              "date                0\n",
              "org                 0\n",
              "tld                 0\n",
              "ccs                 0\n",
              "bcced               0\n",
              "mail_type           0\n",
              "images              0\n",
              "urls                0\n",
              "salutations         0\n",
              "designation         0\n",
              "chars_in_subject    0\n",
              "chars_in_body       0\n",
              "label               0\n",
              "dtype: int64"
            ]
          },
          "execution_count": 22,
          "metadata": {},
          "output_type": "execute_result"
        }
      ],
      "source": [
        "data.isna().sum()"
      ]
    },
    {
      "cell_type": "markdown",
      "metadata": {
        "id": "GlPOK0fUqstK"
      },
      "source": [
        "**Preprocessing**\n",
        "\n",
        "\"Date\" column"
      ]
    },
    {
      "cell_type": "code",
      "execution_count": null,
      "metadata": {
        "id": "NJzpi3mgqewm"
      },
      "outputs": [],
      "source": [
        "import datefinder as df"
      ]
    },
    {
      "cell_type": "code",
      "execution_count": null,
      "metadata": {
        "colab": {
          "base_uri": "https://localhost:8080/",
          "height": 35
        },
        "id": "babq_Yb0_g8u",
        "outputId": "5aeb8ef8-660e-4dac-d669-df321944a3f5"
      },
      "outputs": [
        {
          "data": {
            "text/plain": [
              "'Mon, 6 Nov 2017 11:13:45 +0100'"
            ]
          },
          "execution_count": 24,
          "metadata": {},
          "output_type": "execute_result"
        }
      ],
      "source": [
        "data['date'][0]"
      ]
    },
    {
      "cell_type": "code",
      "execution_count": null,
      "metadata": {
        "colab": {
          "base_uri": "https://localhost:8080/",
          "height": 35
        },
        "id": "1XFpJRoHAhff",
        "outputId": "4d15ddff-8b03-4472-b8a2-20b690a19bb4"
      },
      "outputs": [
        {
          "data": {
            "text/plain": [
              "'Mon'"
            ]
          },
          "execution_count": 25,
          "metadata": {},
          "output_type": "execute_result"
        }
      ],
      "source": [
        "data['date'][0][:(data['date'][0].find(','))]"
      ]
    },
    {
      "cell_type": "code",
      "execution_count": null,
      "metadata": {
        "colab": {
          "base_uri": "https://localhost:8080/"
        },
        "id": "Nj4hOTWY-r8q",
        "outputId": "9fc390cc-bc36-465d-ff0b-d7614efe0ff9"
      },
      "outputs": [
        {
          "data": {
            "text/plain": [
              "11"
            ]
          },
          "execution_count": 26,
          "metadata": {},
          "output_type": "execute_result"
        }
      ],
      "source": [
        "list(df.find_dates(data['date'][0]))[0].month"
      ]
    },
    {
      "cell_type": "code",
      "execution_count": null,
      "metadata": {
        "colab": {
          "base_uri": "https://localhost:8080/",
          "height": 551
        },
        "id": "K_2BIFpS7ojl",
        "outputId": "fe5b95dd-ee65-44b9-9103-e941f497fbf3"
      },
      "outputs": [
        {
          "data": {
            "text/html": [
              "<div>\n",
              "<style scoped>\n",
              "    .dataframe tbody tr th:only-of-type {\n",
              "        vertical-align: middle;\n",
              "    }\n",
              "\n",
              "    .dataframe tbody tr th {\n",
              "        vertical-align: top;\n",
              "    }\n",
              "\n",
              "    .dataframe thead th {\n",
              "        text-align: right;\n",
              "    }\n",
              "</style>\n",
              "<table border=\"1\" class=\"dataframe\">\n",
              "  <thead>\n",
              "    <tr style=\"text-align: right;\">\n",
              "      <th></th>\n",
              "      <th>date</th>\n",
              "      <th>org</th>\n",
              "      <th>tld</th>\n",
              "      <th>ccs</th>\n",
              "      <th>bcced</th>\n",
              "      <th>mail_type</th>\n",
              "      <th>images</th>\n",
              "      <th>urls</th>\n",
              "      <th>salutations</th>\n",
              "      <th>designation</th>\n",
              "      <th>chars_in_subject</th>\n",
              "      <th>chars_in_body</th>\n",
              "      <th>label</th>\n",
              "    </tr>\n",
              "  </thead>\n",
              "  <tbody>\n",
              "  </tbody>\n",
              "</table>\n",
              "</div>"
            ],
            "text/plain": [
              "Empty DataFrame\n",
              "Columns: [date, org, tld, ccs, bcced, mail_type, images, urls, salutations, designation, chars_in_subject, chars_in_body, label]\n",
              "Index: []"
            ]
          },
          "execution_count": 27,
          "metadata": {},
          "output_type": "execute_result"
        }
      ],
      "source": [
        "data[data['chars_in_subject'].isna()]"
      ]
    },
    {
      "cell_type": "code",
      "execution_count": null,
      "metadata": {
        "colab": {
          "base_uri": "https://localhost:8080/"
        },
        "id": "ESW0N_zK9MNP",
        "outputId": "11d98a6e-9a7a-4e10-db6b-48eb0b490b3b"
      },
      "outputs": [
        {
          "data": {
            "text/plain": [
              "['date', 'org', 'tld', 'mail_type']"
            ]
          },
          "execution_count": 25,
          "metadata": {},
          "output_type": "execute_result"
        }
      ],
      "source": [
        "data.select_dtypes(['object']).columns.tolist()"
      ]
    },
    {
      "cell_type": "markdown",
      "metadata": {
        "id": "xSkeUbR3_laa"
      },
      "source": [
        "**Removing timezone mentioned within the brackets**"
      ]
    },
    {
      "cell_type": "code",
      "execution_count": null,
      "metadata": {
        "id": "NiSAtofE-DHv"
      },
      "outputs": [],
      "source": [
        "data['date_format']=data['date'].str.replace(r'\\s*\\([A-Z]+\\)$', '', regex=True)"
      ]
    },
    {
      "cell_type": "markdown",
      "metadata": {
        "id": "te1qh1Yg_3I9"
      },
      "source": [
        "**Adding year,month,day of week and hours**"
      ]
    },
    {
      "cell_type": "code",
      "execution_count": null,
      "metadata": {
        "id": "E1SesMLI-gDJ"
      },
      "outputs": [],
      "source": [
        "data['year']=data['date'].apply(lambda x:list(df.find_dates(x))[0].year)"
      ]
    },
    {
      "cell_type": "code",
      "execution_count": null,
      "metadata": {
        "id": "j63uipi8_Zpl"
      },
      "outputs": [],
      "source": [
        "data['month']=data['date'].apply(lambda x:list(df.find_dates(x))[0].month)"
      ]
    },
    {
      "cell_type": "code",
      "execution_count": null,
      "metadata": {
        "id": "EZeQuQby_jel"
      },
      "outputs": [],
      "source": [
        "data['DayOfWeek']=data['date'].apply(lambda x:list(df.find_dates(x))[0].weekday())"
      ]
    },
    {
      "cell_type": "code",
      "execution_count": null,
      "metadata": {
        "colab": {
          "base_uri": "https://localhost:8080/"
        },
        "id": "c87SpNpMFcjv",
        "outputId": "ff9ae8c2-6c58-46c3-8451-7761e25018ed"
      },
      "outputs": [
        {
          "data": {
            "text/plain": [
              "multipart/alternative    58621\n",
              "text/html                10224\n",
              "multipart/mixed           6461\n",
              "text/plain                2720\n",
              "multipart/related         1996\n",
              "text/html                   58\n",
              "Multipart/Mixed             39\n",
              "multipart/signed            26\n",
              "multipart/report            13\n",
              "Text/Html                   10\n",
              "text/calendar                4\n",
              "Multipart/Alternative        3\n",
              "multipart/IDM                1\n",
              "Name: mail_type, dtype: int64"
            ]
          },
          "execution_count": 32,
          "metadata": {},
          "output_type": "execute_result"
        }
      ],
      "source": [
        "data['mail_type'].value_counts()"
      ]
    },
    {
      "cell_type": "code",
      "execution_count": null,
      "metadata": {
        "colab": {
          "base_uri": "https://localhost:8080/",
          "height": 35
        },
        "id": "wkHlEqC4GLg9",
        "outputId": "9eead2aa-1e87-4079-aec0-46ce6708aa3d"
      },
      "outputs": [
        {
          "data": {
            "text/plain": [
              "'multipart/alternative'"
            ]
          },
          "execution_count": 33,
          "metadata": {},
          "output_type": "execute_result"
        }
      ],
      "source": [
        "data.iloc[27458]['mail_type'].lower()"
      ]
    },
    {
      "cell_type": "code",
      "execution_count": null,
      "metadata": {
        "id": "li8GgEltFruQ"
      },
      "outputs": [],
      "source": [
        "data['mail_type']=data['mail_type'].str.lower()"
      ]
    },
    {
      "cell_type": "code",
      "execution_count": null,
      "metadata": {
        "colab": {
          "base_uri": "https://localhost:8080/"
        },
        "id": "cwl0XUXwGqH4",
        "outputId": "88127219-2cfe-4dce-9283-c7a3fa82e18e"
      },
      "outputs": [
        {
          "data": {
            "text/plain": [
              "multipart/alternative    58624\n",
              "text/html                10234\n",
              "multipart/mixed           6500\n",
              "text/plain                2720\n",
              "multipart/related         1996\n",
              "text/html                   58\n",
              "multipart/signed            26\n",
              "multipart/report            13\n",
              "text/calendar                4\n",
              "multipart/idm                1\n",
              "Name: mail_type, dtype: int64"
            ]
          },
          "execution_count": 35,
          "metadata": {},
          "output_type": "execute_result"
        }
      ],
      "source": [
        "data['mail_type'].value_counts()"
      ]
    },
    {
      "cell_type": "code",
      "execution_count": null,
      "metadata": {
        "id": "s489N4l-GuIN"
      },
      "outputs": [],
      "source": [
        "data['mail_type_1']=data['mail_type'].apply(lambda x:x[:x.find('/')] if type(x)==str else x)"
      ]
    },
    {
      "cell_type": "code",
      "execution_count": null,
      "metadata": {
        "colab": {
          "base_uri": "https://localhost:8080/"
        },
        "id": "LQyP_FtvHOdN",
        "outputId": "8149fda5-33dd-4d80-fa0b-94a1c997fa61"
      },
      "outputs": [
        {
          "data": {
            "text/plain": [
              "multipart    67160\n",
              "text         13016\n",
              "Name: mail_type_1, dtype: int64"
            ]
          },
          "execution_count": 37,
          "metadata": {},
          "output_type": "execute_result"
        }
      ],
      "source": [
        "data['mail_type_1'].value_counts()"
      ]
    },
    {
      "cell_type": "code",
      "execution_count": null,
      "metadata": {
        "id": "vMc7mZ9aJsZB"
      },
      "outputs": [],
      "source": [
        "data['mail_type_2']=data['mail_type'].apply(lambda x:x[x.find('/')+1:] if type(x)==str else x)"
      ]
    },
    {
      "cell_type": "code",
      "execution_count": null,
      "metadata": {
        "colab": {
          "base_uri": "https://localhost:8080/"
        },
        "id": "gfOew33jJ2rG",
        "outputId": "c6c77715-e653-4fc2-cbcc-a657b368ed9a"
      },
      "outputs": [
        {
          "data": {
            "text/plain": [
              "alternative    58624\n",
              "html           10234\n",
              "mixed           6500\n",
              "plain           2720\n",
              "related         1996\n",
              "html              58\n",
              "signed            26\n",
              "report            13\n",
              "calendar           4\n",
              "idm                1\n",
              "Name: mail_type_2, dtype: int64"
            ]
          },
          "execution_count": 39,
          "metadata": {},
          "output_type": "execute_result"
        }
      ],
      "source": [
        "data['mail_type_2'].value_counts()"
      ]
    },
    {
      "cell_type": "markdown",
      "metadata": {
        "id": "st7fXw-6_S0z"
      },
      "source": [
        "**Function to preprocess date field - Clubbing all the previously executed changes**"
      ]
    },
    {
      "cell_type": "code",
      "execution_count": null,
      "metadata": {
        "id": "FuAqenwH_YeY"
      },
      "outputs": [],
      "source": [
        "def preprocess(data):\n",
        "  data['year']=data['date'].apply(lambda x:list(df.find_dates(x))[0].year)\n",
        "  data['month']=data['date'].apply(lambda x:list(df.find_dates(x))[0].month)\n",
        "  data['DayOfWeek']=data['date'].apply(lambda x:list(df.find_dates(x))[0].weekday())\n",
        "  data['mail_type']=data['mail_type'].str.lower()\n",
        "  data['mail_type_1']=data['mail_type'].apply(lambda x:x[:x.find('/')] if type(x)==str else x)\n",
        "  data['mail_type_2']=data['mail_type'].apply(lambda x:x[x.find('/')+1:] if type(x)==str else x)\n",
        "  return data\n"
      ]
    },
    {
      "cell_type": "markdown",
      "metadata": {
        "id": "Xl0haP_hht91"
      },
      "source": [
        "Working with 'org' and 'tld' column(numerous categories)"
      ]
    },
    {
      "cell_type": "code",
      "execution_count": null,
      "metadata": {
        "id": "jBmsABFaTDQp"
      },
      "outputs": [],
      "source": [
        "count=data['org'].value_counts()"
      ]
    },
    {
      "cell_type": "code",
      "execution_count": null,
      "metadata": {
        "colab": {
          "base_uri": "https://localhost:8080/"
        },
        "id": "f6a-i0tFUX-f",
        "outputId": "28a3d18b-fe22-429c-9e87-8c6ca7dc53a0"
      },
      "outputs": [
        {
          "data": {
            "text/plain": [
              "iiitd                 19943\n",
              "usebackpack            5070\n",
              "google                 3890\n",
              "Unknown                3451\n",
              "amazon                 3123\n",
              "                      ...  \n",
              "gr31                      1\n",
              "andromedapublisher        1\n",
              "hasteroc                  1\n",
              "app                       1\n",
              "freedns                   1\n",
              "Name: org, Length: 1039, dtype: int64"
            ]
          },
          "execution_count": 42,
          "metadata": {},
          "output_type": "execute_result"
        }
      ],
      "source": [
        "count"
      ]
    },
    {
      "cell_type": "code",
      "execution_count": null,
      "metadata": {
        "colab": {
          "base_uri": "https://localhost:8080/"
        },
        "id": "myCQRxhJULrx",
        "outputId": "84aa707e-6c1c-44ec-ab69-b3d4caa28d21"
      },
      "outputs": [
        {
          "data": {
            "text/plain": [
              "Index(['iiitd', 'usebackpack', 'google', 'Unknown', 'amazon', 'linkedin',\n",
              "       'twitter', 'quora', 'gmail', 'github',\n",
              "       ...\n",
              "       'datacamp', 'monsterindia', 'codeschool', 'coupondunia', 'deliver',\n",
              "       'adum', 'inria', 'phonepe', 'zoomgroup', 'walkfree'],\n",
              "      dtype='object', length=114)"
            ]
          },
          "execution_count": 43,
          "metadata": {},
          "output_type": "execute_result"
        }
      ],
      "source": [
        "count[count>74].index"
      ]
    },
    {
      "cell_type": "code",
      "execution_count": null,
      "metadata": {
        "colab": {
          "base_uri": "https://localhost:8080/"
        },
        "id": "rq7tMulRS66d",
        "outputId": "47c857b4-286d-4f66-cbf1-9e5813dbb99e"
      },
      "outputs": [
        {
          "data": {
            "text/plain": [
              "77.1665062560154"
            ]
          },
          "execution_count": 44,
          "metadata": {},
          "output_type": "execute_result"
        }
      ],
      "source": [
        "data['org'].value_counts().mean()"
      ]
    },
    {
      "cell_type": "code",
      "execution_count": null,
      "metadata": {
        "colab": {
          "base_uri": "https://localhost:8080/"
        },
        "id": "4i7jvSuzXqQ9",
        "outputId": "dc6880d5-c694-4119-ad73-d74950110fdc"
      },
      "outputs": [
        {
          "data": {
            "text/plain": [
              "org\n",
              "000webhost       30\n",
              "0adz              2\n",
              "10xrecruit        1\n",
              "126             120\n",
              "163               4\n",
              "               ... \n",
              "zoomgroup        77\n",
              "zooniverse        4\n",
              "zoov             31\n",
              "zoov-support     11\n",
              "zurich            2\n",
              "Name: label, Length: 1039, dtype: int64"
            ]
          },
          "execution_count": 45,
          "metadata": {},
          "output_type": "execute_result"
        }
      ],
      "source": [
        "data.groupby('org')['label'].count()"
      ]
    },
    {
      "cell_type": "code",
      "execution_count": null,
      "metadata": {
        "id": "PcaJgQUZYGEm"
      },
      "outputs": [],
      "source": [
        "org_freq = data['org'].value_counts().to_dict()\n"
      ]
    },
    {
      "cell_type": "code",
      "execution_count": null,
      "metadata": {
        "colab": {
          "base_uri": "https://localhost:8080/"
        },
        "id": "A0GE70e2YIl3",
        "outputId": "0dbf20ef-fa91-42ef-f191-bd18eec783cc"
      },
      "outputs": [
        {
          "data": {
            "text/plain": [
              "{1,\n",
              " 2,\n",
              " 3,\n",
              " 4,\n",
              " 5,\n",
              " 6,\n",
              " 7,\n",
              " 8,\n",
              " 9,\n",
              " 10,\n",
              " 11,\n",
              " 12,\n",
              " 13,\n",
              " 14,\n",
              " 15,\n",
              " 16,\n",
              " 17,\n",
              " 18,\n",
              " 19,\n",
              " 20,\n",
              " 21,\n",
              " 22,\n",
              " 23,\n",
              " 24,\n",
              " 25,\n",
              " 26,\n",
              " 27,\n",
              " 28,\n",
              " 29,\n",
              " 30,\n",
              " 31,\n",
              " 32,\n",
              " 33,\n",
              " 34,\n",
              " 35,\n",
              " 37,\n",
              " 38,\n",
              " 39,\n",
              " 40,\n",
              " 41,\n",
              " 42,\n",
              " 43,\n",
              " 44,\n",
              " 45,\n",
              " 47,\n",
              " 48,\n",
              " 49,\n",
              " 50,\n",
              " 51,\n",
              " 52,\n",
              " 53,\n",
              " 54,\n",
              " 55,\n",
              " 56,\n",
              " 57,\n",
              " 58,\n",
              " 59,\n",
              " 60,\n",
              " 61,\n",
              " 62,\n",
              " 63,\n",
              " 64,\n",
              " 66,\n",
              " 67,\n",
              " 68,\n",
              " 70,\n",
              " 71,\n",
              " 72,\n",
              " 73,\n",
              " 74,\n",
              " 75,\n",
              " 77,\n",
              " 78,\n",
              " 79,\n",
              " 81,\n",
              " 84,\n",
              " 88,\n",
              " 89,\n",
              " 90,\n",
              " 91,\n",
              " 92,\n",
              " 93,\n",
              " 95,\n",
              " 96,\n",
              " 98,\n",
              " 100,\n",
              " 102,\n",
              " 104,\n",
              " 108,\n",
              " 109,\n",
              " 112,\n",
              " 113,\n",
              " 116,\n",
              " 119,\n",
              " 120,\n",
              " 122,\n",
              " 123,\n",
              " 124,\n",
              " 127,\n",
              " 140,\n",
              " 141,\n",
              " 142,\n",
              " 143,\n",
              " 144,\n",
              " 145,\n",
              " 146,\n",
              " 147,\n",
              " 151,\n",
              " 158,\n",
              " 161,\n",
              " 167,\n",
              " 170,\n",
              " 175,\n",
              " 185,\n",
              " 186,\n",
              " 187,\n",
              " 190,\n",
              " 193,\n",
              " 201,\n",
              " 203,\n",
              " 206,\n",
              " 211,\n",
              " 212,\n",
              " 214,\n",
              " 217,\n",
              " 218,\n",
              " 223,\n",
              " 229,\n",
              " 236,\n",
              " 244,\n",
              " 245,\n",
              " 249,\n",
              " 253,\n",
              " 257,\n",
              " 261,\n",
              " 272,\n",
              " 274,\n",
              " 275,\n",
              " 278,\n",
              " 287,\n",
              " 289,\n",
              " 299,\n",
              " 322,\n",
              " 333,\n",
              " 349,\n",
              " 353,\n",
              " 381,\n",
              " 387,\n",
              " 396,\n",
              " 411,\n",
              " 416,\n",
              " 419,\n",
              " 441,\n",
              " 468,\n",
              " 519,\n",
              " 555,\n",
              " 566,\n",
              " 641,\n",
              " 649,\n",
              " 659,\n",
              " 667,\n",
              " 720,\n",
              " 724,\n",
              " 950,\n",
              " 1120,\n",
              " 1152,\n",
              " 1214,\n",
              " 1280,\n",
              " 2143,\n",
              " 2315,\n",
              " 2371,\n",
              " 3123,\n",
              " 3451,\n",
              " 3890,\n",
              " 5070,\n",
              " 19943}"
            ]
          },
          "execution_count": 47,
          "metadata": {},
          "output_type": "execute_result"
        }
      ],
      "source": [
        "set(org_freq.values())"
      ]
    },
    {
      "cell_type": "markdown",
      "metadata": {
        "id": "u7nsVj6QtE5s"
      },
      "source": [
        "**Preprocessing dataframe with 'org' and 'tld' columns alone, later combining with the remaining**"
      ]
    },
    {
      "cell_type": "code",
      "execution_count": null,
      "metadata": {
        "id": "BkQ62XzaltAl"
      },
      "outputs": [],
      "source": [
        "from sklearn.preprocessing import OneHotEncoder,StandardScaler"
      ]
    },
    {
      "cell_type": "code",
      "execution_count": null,
      "metadata": {
        "id": "ILgqaxTxjz2Z"
      },
      "outputs": [],
      "source": [
        "from sklearn.pipeline import Pipeline\n",
        "from sklearn.compose import ColumnTransformer"
      ]
    },
    {
      "cell_type": "code",
      "execution_count": null,
      "metadata": {
        "id": "HMgMH1v4kL8N"
      },
      "outputs": [],
      "source": [
        "cat_pipeline=Pipeline(steps=[('Onehotencoder',OneHotEncoder())])"
      ]
    },
    {
      "cell_type": "code",
      "execution_count": null,
      "metadata": {
        "id": "5S9Td087mZgM"
      },
      "outputs": [],
      "source": [
        "num_pipeline=Pipeline(steps=[('Standardscalar',StandardScaler())])"
      ]
    },
    {
      "cell_type": "code",
      "execution_count": null,
      "metadata": {
        "id": "WIioP7sGIS6L"
      },
      "outputs": [],
      "source": [
        "data_sub=data[['org','tld']]\n",
        "\n",
        "cat_var_sub=['org','tld']\n",
        "\n",
        "preprocess_sub=ColumnTransformer(transformers=[('cat_pip_sub',cat_pipeline,cat_var_sub)])\n",
        "\n",
        "X_sub=preprocess_sub.fit_transform(data_sub)\n",
        "\n",
        "categorical_column_names_sub = preprocess_sub.named_transformers_['cat_pip_sub'] .named_steps['Onehotencoder'].get_feature_names_out(input_features=cat_var_sub)\n",
        "\n",
        "X_sub=pd.DataFrame(X_sub.toarray(),columns=list(categorical_column_names_sub))"
      ]
    },
    {
      "cell_type": "code",
      "execution_count": null,
      "metadata": {
        "id": "FLM5spH8IS6L"
      },
      "outputs": [],
      "source": [
        "Y_sub=data['label']"
      ]
    },
    {
      "cell_type": "markdown",
      "metadata": {
        "id": "5N4gnEIPIS6M"
      },
      "source": [
        "**Using logistic regression to find the most important features of one hot encoded 'org' and 'tld' columns**"
      ]
    },
    {
      "cell_type": "code",
      "execution_count": null,
      "metadata": {
        "id": "Ak-cZTP4IS6M",
        "outputId": "ffa68977-3710-49c6-e7a4-45d32edd172c"
      },
      "outputs": [
        {
          "name": "stderr",
          "output_type": "stream",
          "text": [
            "c:\\Users\\poong\\Anaconda3\\lib\\site-packages\\sklearn\\base.py:443: UserWarning: X has feature names, but SelectFromModel was fitted without feature names\n",
            "  warnings.warn(\n"
          ]
        }
      ],
      "source": [
        "from sklearn.linear_model import LogisticRegression\n",
        "\n",
        "from sklearn.feature_selection import SelectFromModel\n",
        "\n",
        "log_reg=LogisticRegression(C=0.01)\n",
        "\n",
        "log_reg.fit(X_sub,Y_sub)\n",
        "\n",
        "model_sfm = SelectFromModel(log_reg, prefit=True)\n",
        "model_sfm.transform(X_sub).shape\n",
        "\n",
        "column_new=model_sfm.get_support(indices=True)\n",
        "\n",
        "X_sub_new=X_sub.iloc[:,column_new]"
      ]
    },
    {
      "cell_type": "markdown",
      "metadata": {
        "id": "Pz6gXkbvDm42"
      },
      "source": [
        "Preprocessing remaining columns"
      ]
    },
    {
      "cell_type": "code",
      "execution_count": null,
      "metadata": {
        "colab": {
          "base_uri": "https://localhost:8080/"
        },
        "id": "6b7d1xHZjfyK",
        "outputId": "cdf54b53-45dc-466e-8fc8-7be5578b8b0a"
      },
      "outputs": [
        {
          "data": {
            "text/plain": [
              "Index(['org', 'tld', 'ccs', 'bcced', 'images', 'urls', 'salutations',\n",
              "       'designation', 'chars_in_subject', 'chars_in_body', 'label',\n",
              "       'date_format', 'year', 'month', 'DayOfWeek', 'mail_type_1',\n",
              "       'mail_type_2'],\n",
              "      dtype='object')"
            ]
          },
          "execution_count": 57,
          "metadata": {},
          "output_type": "execute_result"
        }
      ],
      "source": [
        "data.columns"
      ]
    },
    {
      "cell_type": "code",
      "execution_count": null,
      "metadata": {
        "id": "fp4c18GQjgZZ"
      },
      "outputs": [],
      "source": [
        "data_temp=data[['ccs', 'bcced', 'images', 'urls',\n",
        "       'salutations', 'designation', 'chars_in_subject', 'chars_in_body',\n",
        "       'label', 'year', 'month', 'DayOfWeek', 'mail_type_1',\n",
        "       'mail_type_2']]"
      ]
    },
    {
      "cell_type": "code",
      "execution_count": null,
      "metadata": {
        "colab": {
          "base_uri": "https://localhost:8080/"
        },
        "id": "iJVBdgbKtRPI",
        "outputId": "1189ed61-5eb8-4e76-d12b-07ce96292384"
      },
      "outputs": [
        {
          "data": {
            "text/plain": [
              "array([0, 2, 4, 1, 6, 5, 3], dtype=int64)"
            ]
          },
          "execution_count": 59,
          "metadata": {},
          "output_type": "execute_result"
        }
      ],
      "source": [
        "pd.unique(data_temp['DayOfWeek'])"
      ]
    },
    {
      "cell_type": "code",
      "execution_count": null,
      "metadata": {
        "colab": {
          "base_uri": "https://localhost:8080/"
        },
        "id": "rCa1iYfdthYo",
        "outputId": "f7d12984-bfd0-4969-f249-0bd9caa79f79"
      },
      "outputs": [
        {
          "data": {
            "text/plain": [
              "7"
            ]
          },
          "execution_count": 60,
          "metadata": {},
          "output_type": "execute_result"
        }
      ],
      "source": [
        "data_temp['DayOfWeek'].nunique()"
      ]
    },
    {
      "cell_type": "code",
      "execution_count": null,
      "metadata": {
        "id": "jHBXiBnhme-A"
      },
      "outputs": [],
      "source": [
        "cat_var=['year', 'month', 'DayOfWeek', 'mail_type_1',\n",
        "       'mail_type_2']"
      ]
    },
    {
      "cell_type": "code",
      "execution_count": null,
      "metadata": {
        "id": "4GNiIaE-nYyf"
      },
      "outputs": [],
      "source": [
        "num_var=['ccs', 'bcced', 'images', 'urls',\n",
        "       'salutations', 'designation', 'chars_in_subject', 'chars_in_body']"
      ]
    },
    {
      "cell_type": "code",
      "execution_count": null,
      "metadata": {
        "id": "Y3u73Mn6ncsa"
      },
      "outputs": [],
      "source": [
        "final_pipeline=ColumnTransformer([('cat_pip',cat_pipeline,cat_var),('num_pip',num_pipeline,num_var)])"
      ]
    },
    {
      "cell_type": "code",
      "execution_count": null,
      "metadata": {
        "id": "dUpR1JispGQc"
      },
      "outputs": [],
      "source": [
        "X=data_temp.drop('label',axis=1)"
      ]
    },
    {
      "cell_type": "code",
      "execution_count": null,
      "metadata": {
        "id": "Xp18un46pSja"
      },
      "outputs": [],
      "source": [
        "Y=data_temp['label']"
      ]
    },
    {
      "cell_type": "code",
      "execution_count": null,
      "metadata": {
        "id": "1Gk79vGOoICg"
      },
      "outputs": [],
      "source": [
        "X_processed=final_pipeline.fit_transform(X)"
      ]
    },
    {
      "cell_type": "code",
      "execution_count": null,
      "metadata": {
        "id": "7VQlYuSFoPKg"
      },
      "outputs": [],
      "source": [
        "categorical_column_names = final_pipeline.named_transformers_['cat_pip'] .named_steps['Onehotencoder'].get_feature_names_out(input_features=cat_var)"
      ]
    },
    {
      "cell_type": "code",
      "execution_count": null,
      "metadata": {
        "colab": {
          "base_uri": "https://localhost:8080/"
        },
        "id": "jyQW_d1gwtxX",
        "outputId": "415f1250-0015-4d19-8c4c-1975c98b9ba5"
      },
      "outputs": [
        {
          "data": {
            "text/plain": [
              "array(['year_2012', 'year_2013', 'year_2014', 'year_2015', 'year_2016',\n",
              "       'year_2017', 'year_2018', 'year_2019', 'year_2020', 'month_1',\n",
              "       'month_2', 'month_3', 'month_4', 'month_5', 'month_6', 'month_7',\n",
              "       'month_8', 'month_9', 'month_10', 'month_11', 'month_12',\n",
              "       'DayOfWeek_0', 'DayOfWeek_1', 'DayOfWeek_2', 'DayOfWeek_3',\n",
              "       'DayOfWeek_4', 'DayOfWeek_5', 'DayOfWeek_6',\n",
              "       'mail_type_1_multipart', 'mail_type_1_text',\n",
              "       'mail_type_2_alternative', 'mail_type_2_calendar',\n",
              "       'mail_type_2_html', 'mail_type_2_html ', 'mail_type_2_idm',\n",
              "       'mail_type_2_mixed', 'mail_type_2_plain', 'mail_type_2_related',\n",
              "       'mail_type_2_report', 'mail_type_2_signed'], dtype=object)"
            ]
          },
          "execution_count": 68,
          "metadata": {},
          "output_type": "execute_result"
        }
      ],
      "source": [
        "categorical_column_names"
      ]
    },
    {
      "cell_type": "code",
      "execution_count": null,
      "metadata": {
        "id": "yjS9c3fMwz3N"
      },
      "outputs": [],
      "source": [
        "X_df=pd.DataFrame(X_processed.toarray(),columns=list(categorical_column_names)+num_var)"
      ]
    },
    {
      "cell_type": "code",
      "execution_count": null,
      "metadata": {
        "id": "E6k1rphVxT8_"
      },
      "outputs": [],
      "source": [
        "Y_df=pd.DataFrame(Y,columns=['label'])"
      ]
    },
    {
      "cell_type": "code",
      "execution_count": null,
      "metadata": {
        "id": "c2x1f-yVIS6R",
        "outputId": "4fa6c3c2-22c6-431d-eb3b-d41fff41bd6c"
      },
      "outputs": [
        {
          "data": {
            "text/plain": [
              "Index([], dtype='object')"
            ]
          },
          "execution_count": 71,
          "metadata": {},
          "output_type": "execute_result"
        }
      ],
      "source": [
        "final_X_df=pd.concat([X_df,X_sub_new],axis=1)\n",
        "\n",
        "final_X_df.columns[final_X_df.isna().sum()>0]"
      ]
    },
    {
      "cell_type": "code",
      "execution_count": null,
      "metadata": {
        "id": "exO3PgttyBUI"
      },
      "outputs": [],
      "source": [
        "from sklearn.model_selection import StratifiedShuffleSplit"
      ]
    },
    {
      "cell_type": "code",
      "execution_count": null,
      "metadata": {
        "id": "OJN7u3qVyOP7"
      },
      "outputs": [],
      "source": [
        "split=StratifiedShuffleSplit(n_splits=1,test_size=0.3,random_state=121)"
      ]
    },
    {
      "cell_type": "code",
      "execution_count": null,
      "metadata": {
        "id": "CcEVkyMIyRFi"
      },
      "outputs": [],
      "source": [
        "for train_index,test_index in split.split(final_X_df,Y_df):\n",
        "  X_train,X_test=final_X_df.iloc[train_index],final_X_df.iloc[test_index]\n",
        "  Y_train,Y_test=Y_df.iloc[train_index],Y_df.iloc[test_index]"
      ]
    },
    {
      "cell_type": "markdown",
      "metadata": {
        "id": "aYQ3gH3nxt-U"
      },
      "source": [
        "**Modeling - Stacked Classifier**"
      ]
    },
    {
      "cell_type": "code",
      "execution_count": null,
      "metadata": {
        "id": "1kepc484IS6T",
        "outputId": "f0421907-cb9b-4ec5-cfc5-fcab56fc72b0"
      },
      "outputs": [
        {
          "name": "stderr",
          "output_type": "stream",
          "text": [
            "c:\\Users\\poong\\Anaconda3\\lib\\site-packages\\xgboost\\sklearn.py:1395: UserWarning: `use_label_encoder` is deprecated in 1.7.0.\n",
            "  warnings.warn(\"`use_label_encoder` is deprecated in 1.7.0.\")\n"
          ]
        }
      ],
      "source": [
        "from sklearn.ensemble import RandomForestClassifier,StackingClassifier\n",
        "from sklearn.neighbors import KNeighborsClassifier\n",
        "from sklearn.pipeline import make_pipeline\n",
        "import xgboost as xg\n",
        "\n",
        "from sklearn.linear_model import LogisticRegression\n",
        "from sklearn.svm import SVC\n",
        "\n",
        "estimators = [('rf', RandomForestClassifier(n_estimators=18, random_state=42)),\n",
        "   ('lr',LogisticRegression()),\n",
        "              ('knn',KNeighborsClassifier(n_neighbors=3)),\n",
        "               ('xgb', xg.XGBClassifier(objective=\"multi:softprob\",use_label_encoder=False, random_state=42))]\n",
        "\n",
        "level1_est = SVC(kernel='linear', C=0.1,random_state=42)\n",
        "\n",
        "clf = StackingClassifier(estimators=estimators,final_estimator=level1_est,cv=5)\n"
      ]
    },
    {
      "cell_type": "code",
      "execution_count": null,
      "metadata": {
        "id": "8NwktvRgIS6U",
        "outputId": "a3d937b0-7144-4b1b-b2ff-819003155537"
      },
      "outputs": [
        {
          "name": "stderr",
          "output_type": "stream",
          "text": [
            "c:\\Users\\poong\\Anaconda3\\lib\\site-packages\\sklearn\\preprocessing\\_label.py:98: DataConversionWarning: A column-vector y was passed when a 1d array was expected. Please change the shape of y to (n_samples, ), for example using ravel().\n",
            "  y = column_or_1d(y, warn=True)\n",
            "c:\\Users\\poong\\Anaconda3\\lib\\site-packages\\sklearn\\preprocessing\\_label.py:133: DataConversionWarning: A column-vector y was passed when a 1d array was expected. Please change the shape of y to (n_samples, ), for example using ravel().\n",
            "  y = column_or_1d(y, warn=True)\n",
            "c:\\Users\\poong\\Anaconda3\\lib\\site-packages\\sklearn\\linear_model\\_logistic.py:814: ConvergenceWarning: lbfgs failed to converge (status=1):\n",
            "STOP: TOTAL NO. of ITERATIONS REACHED LIMIT.\n",
            "\n",
            "Increase the number of iterations (max_iter) or scale the data as shown in:\n",
            "    https://scikit-learn.org/stable/modules/preprocessing.html\n",
            "Please also refer to the documentation for alternative solver options:\n",
            "    https://scikit-learn.org/stable/modules/linear_model.html#logistic-regression\n",
            "  n_iter_i = _check_optimize_result(\n",
            "c:\\Users\\poong\\Anaconda3\\lib\\site-packages\\xgboost\\sklearn.py:1395: UserWarning: `use_label_encoder` is deprecated in 1.7.0.\n",
            "  warnings.warn(\"`use_label_encoder` is deprecated in 1.7.0.\")\n",
            "c:\\Users\\poong\\Anaconda3\\lib\\site-packages\\sklearn\\linear_model\\_logistic.py:814: ConvergenceWarning: lbfgs failed to converge (status=1):\n",
            "STOP: TOTAL NO. of ITERATIONS REACHED LIMIT.\n",
            "\n",
            "Increase the number of iterations (max_iter) or scale the data as shown in:\n",
            "    https://scikit-learn.org/stable/modules/preprocessing.html\n",
            "Please also refer to the documentation for alternative solver options:\n",
            "    https://scikit-learn.org/stable/modules/linear_model.html#logistic-regression\n",
            "  n_iter_i = _check_optimize_result(\n",
            "c:\\Users\\poong\\Anaconda3\\lib\\site-packages\\sklearn\\linear_model\\_logistic.py:814: ConvergenceWarning: lbfgs failed to converge (status=1):\n",
            "STOP: TOTAL NO. of ITERATIONS REACHED LIMIT.\n",
            "\n",
            "Increase the number of iterations (max_iter) or scale the data as shown in:\n",
            "    https://scikit-learn.org/stable/modules/preprocessing.html\n",
            "Please also refer to the documentation for alternative solver options:\n",
            "    https://scikit-learn.org/stable/modules/linear_model.html#logistic-regression\n",
            "  n_iter_i = _check_optimize_result(\n",
            "c:\\Users\\poong\\Anaconda3\\lib\\site-packages\\sklearn\\linear_model\\_logistic.py:814: ConvergenceWarning: lbfgs failed to converge (status=1):\n",
            "STOP: TOTAL NO. of ITERATIONS REACHED LIMIT.\n",
            "\n",
            "Increase the number of iterations (max_iter) or scale the data as shown in:\n",
            "    https://scikit-learn.org/stable/modules/preprocessing.html\n",
            "Please also refer to the documentation for alternative solver options:\n",
            "    https://scikit-learn.org/stable/modules/linear_model.html#logistic-regression\n",
            "  n_iter_i = _check_optimize_result(\n",
            "c:\\Users\\poong\\Anaconda3\\lib\\site-packages\\sklearn\\linear_model\\_logistic.py:814: ConvergenceWarning: lbfgs failed to converge (status=1):\n",
            "STOP: TOTAL NO. of ITERATIONS REACHED LIMIT.\n",
            "\n",
            "Increase the number of iterations (max_iter) or scale the data as shown in:\n",
            "    https://scikit-learn.org/stable/modules/preprocessing.html\n",
            "Please also refer to the documentation for alternative solver options:\n",
            "    https://scikit-learn.org/stable/modules/linear_model.html#logistic-regression\n",
            "  n_iter_i = _check_optimize_result(\n",
            "c:\\Users\\poong\\Anaconda3\\lib\\site-packages\\sklearn\\linear_model\\_logistic.py:814: ConvergenceWarning: lbfgs failed to converge (status=1):\n",
            "STOP: TOTAL NO. of ITERATIONS REACHED LIMIT.\n",
            "\n",
            "Increase the number of iterations (max_iter) or scale the data as shown in:\n",
            "    https://scikit-learn.org/stable/modules/preprocessing.html\n",
            "Please also refer to the documentation for alternative solver options:\n",
            "    https://scikit-learn.org/stable/modules/linear_model.html#logistic-regression\n",
            "  n_iter_i = _check_optimize_result(\n",
            "c:\\Users\\poong\\Anaconda3\\lib\\site-packages\\xgboost\\sklearn.py:1395: UserWarning: `use_label_encoder` is deprecated in 1.7.0.\n",
            "  warnings.warn(\"`use_label_encoder` is deprecated in 1.7.0.\")\n",
            "c:\\Users\\poong\\Anaconda3\\lib\\site-packages\\xgboost\\sklearn.py:1395: UserWarning: `use_label_encoder` is deprecated in 1.7.0.\n",
            "  warnings.warn(\"`use_label_encoder` is deprecated in 1.7.0.\")\n",
            "c:\\Users\\poong\\Anaconda3\\lib\\site-packages\\xgboost\\sklearn.py:1395: UserWarning: `use_label_encoder` is deprecated in 1.7.0.\n",
            "  warnings.warn(\"`use_label_encoder` is deprecated in 1.7.0.\")\n",
            "c:\\Users\\poong\\Anaconda3\\lib\\site-packages\\xgboost\\sklearn.py:1395: UserWarning: `use_label_encoder` is deprecated in 1.7.0.\n",
            "  warnings.warn(\"`use_label_encoder` is deprecated in 1.7.0.\")\n",
            "c:\\Users\\poong\\Anaconda3\\lib\\site-packages\\xgboost\\sklearn.py:1395: UserWarning: `use_label_encoder` is deprecated in 1.7.0.\n",
            "  warnings.warn(\"`use_label_encoder` is deprecated in 1.7.0.\")\n",
            "c:\\Users\\poong\\Anaconda3\\lib\\site-packages\\xgboost\\sklearn.py:1395: UserWarning: `use_label_encoder` is deprecated in 1.7.0.\n",
            "  warnings.warn(\"`use_label_encoder` is deprecated in 1.7.0.\")\n"
          ]
        },
        {
          "data": {
            "text/plain": [
              "StackingClassifier(cv=5,\n",
              "                   estimators=[('rf',\n",
              "                                RandomForestClassifier(n_estimators=18,\n",
              "                                                       random_state=42)),\n",
              "                               ('lr', LogisticRegression()),\n",
              "                               ('knn', KNeighborsClassifier(n_neighbors=3)),\n",
              "                               ('xgb',\n",
              "                                XGBClassifier(base_score=None, booster=None,\n",
              "                                              callbacks=None,\n",
              "                                              colsample_bylevel=None,\n",
              "                                              colsample_bynode=None,\n",
              "                                              colsample_bytree=None,\n",
              "                                              early_stopping_rounds=None,\n",
              "                                              enable_categorical=F...\n",
              "                                              interaction_constraints=None,\n",
              "                                              learning_rate=None, max_bin=None,\n",
              "                                              max_cat_threshold=None,\n",
              "                                              max_cat_to_onehot=None,\n",
              "                                              max_delta_step=None,\n",
              "                                              max_depth=None, max_leaves=None,\n",
              "                                              min_child_weight=None,\n",
              "                                              missing=nan,\n",
              "                                              monotone_constraints=None,\n",
              "                                              n_estimators=100, n_jobs=None,\n",
              "                                              num_parallel_tree=None,\n",
              "                                              objective='multi:softprob',\n",
              "                                              predictor=None, ...))],\n",
              "                   final_estimator=SVC(C=0.1, kernel='linear', random_state=42))"
            ]
          },
          "execution_count": 77,
          "metadata": {},
          "output_type": "execute_result"
        }
      ],
      "source": [
        "clf.fit(X_train,Y_train)"
      ]
    },
    {
      "cell_type": "code",
      "execution_count": null,
      "metadata": {
        "id": "MuEPy2fyIS6U"
      },
      "outputs": [],
      "source": [
        "Y_pred=clf.predict(X_test)"
      ]
    },
    {
      "cell_type": "code",
      "execution_count": null,
      "metadata": {
        "id": "zTFVDIgxIS6U"
      },
      "outputs": [],
      "source": [
        "from sklearn.metrics import accuracy_score,ConfusionMatrixDisplay,confusion_matrix,classification_report"
      ]
    },
    {
      "cell_type": "code",
      "execution_count": null,
      "metadata": {
        "id": "nBPR11G2IS6V",
        "outputId": "13fb0818-2409-43ca-9916-718ddc9aea14"
      },
      "outputs": [
        {
          "data": {
            "text/plain": [
              "0.6861098407683033"
            ]
          },
          "execution_count": 80,
          "metadata": {},
          "output_type": "execute_result"
        }
      ],
      "source": [
        "accuracy_score(Y_test,Y_pred)"
      ]
    },
    {
      "cell_type": "code",
      "execution_count": null,
      "metadata": {
        "id": "yrNB2L9kIS6Y",
        "outputId": "28eb6e34-cd48-4f1a-c8a5-e5bd3923722b"
      },
      "outputs": [
        {
          "data": {
            "text/plain": [
              "<sklearn.metrics._plot.confusion_matrix.ConfusionMatrixDisplay at 0x1c26340ebe0>"
            ]
          },
          "execution_count": 25,
          "metadata": {},
          "output_type": "execute_result"
        },
        {
          "data": {
            "image/png": "[encoded data removed]",
            "text/plain": [
              "<Figure size 640x480 with 2 Axes>"
            ]
          },
          "metadata": {},
          "output_type": "display_data"
        }
      ],
      "source": [
        "ConfusionMatrixDisplay(confusion_matrix(Y_test,Y_pred)).plot()"
      ]
    }
  ],
  "metadata": {
    "colab": {
      "provenance": [],
      "include_colab_link": true
    },
    "kernelspec": {
      "display_name": "Python 3",
      "name": "python3"
    },
    "language_info": {
      "codemirror_mode": {
        "name": "ipython",
        "version": 3
      },
      "file_extension": ".py",
      "mimetype": "text/x-python",
      "name": "python",
      "nbconvert_exporter": "python",
      "pygments_lexer": "ipython3",
      "version": "3.9.13"
    }
  },
  "nbformat": 4,
  "nbformat_minor": 0
}